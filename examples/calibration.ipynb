{
 "cells": [
  {
   "cell_type": "code",
   "execution_count": 1,
   "metadata": {},
   "outputs": [],
   "source": [
    "import numpy as np\n",
    "from pySWATPlus.TxtinoutReader import TxtinoutReader\n",
    "from pySWATPlus.SWATProblem import SWATProblem, minimize_pymoo\n",
    "import random\n",
    "\n",
    "from pymoo.algorithms.soo.nonconvex.cmaes import CMAES\n",
    "from pymoo.termination import get_termination\n",
    "from pymoo.util.normalization import denormalize"
   ]
  },
  {
   "cell_type": "code",
   "execution_count": 2,
   "metadata": {},
   "outputs": [],
   "source": [
    "\"\"\"\n",
    "The user defined function must receive only one parameter, which is a dictionary taht can have any structure, but must have\n",
    "one key (with any user-specified name, in our case is 'calibration_params') that contains the calibration parameters. It must be in the following format: \n",
    "{filename: (id_col, [(id, col, value)])}\n",
    "\"\"\"\n",
    "\n",
    "def function_to_minimize(dict_of_params):\n",
    "\n",
    "    calibration_params = dict_of_params['calibration_params']\n",
    "    path_to_txtinout = dict_of_params['path_to_txtinout']\n",
    "\n",
    "    #read path to txtinout\n",
    "    reader = TxtinoutReader(path_to_txtinout)\n",
    "    tmp_path = reader.copy_swat(dir = None) #Copy to temporary directory\n",
    "    reader = TxtinoutReader(tmp_path)\n",
    "\n",
    "    #run swat with calibration_params, which must be in format  {filename: (id_col, [(id, col, value)])}\n",
    "    txt_in_out_result = reader.run_swat(calibration_params, show_output=False)\n",
    "        \n",
    "    #read path_to_txtinout\n",
    "    result_reader = TxtinoutReader(txt_in_out_result)\n",
    "\n",
    "    \"\"\"\n",
    "    The following steps should be: read the results, gather the observations, calculate the error based on the observations and the simulation, and finally, return the error\n",
    "    \"\"\"\n",
    "\n",
    "    #Return in format Tuple[int, Dict[str, str]]\n",
    "    return (random.random(), {'test_calibration': result_reader.root_folder})   #We return any random error\n"
   ]
  },
  {
   "cell_type": "code",
   "execution_count": 3,
   "metadata": {},
   "outputs": [],
   "source": [
    "txtinout_folder = 'path/to/txtinout'\n",
    "\n",
    "swat_problem = SWATProblem(params = {'plants.plt': ('name', [('bana', 'bm_e', 40, 50), ('bana', 'harv_idx', 0.4, 0.5)])},\n",
    "                           function_to_evaluate=function_to_minimize,\n",
    "                           param_arg_name='calibration_params',\n",
    "                           n_workers=4,\n",
    "                           parallelization = 'threads',\n",
    "                           debug=True,\n",
    "                           path_to_txtinout=txtinout_folder)"
   ]
  },
  {
   "cell_type": "code",
   "execution_count": 4,
   "metadata": {},
   "outputs": [
    {
     "name": "stdout",
     "output_type": "stream",
     "text": [
      "\n",
      "Compiled modules for significant speedup can not be used!\n",
      "https://pymoo.org/installation.html#installation\n",
      "\n",
      "To disable this warning:\n",
      "from pymoo.config import Config\n",
      "Config.warnings['not_compiled'] = False\n",
      "\n",
      "starting _evaluate\n",
      "begin running simulations\n",
      "simulations done\n",
      "[0.13436424]\n",
      "adding solutions\n",
      "exit adding solutions\n",
      "returning from _evaluate\n",
      "starting _evaluate\n",
      "begin running simulations\n",
      "simulations done\n",
      "[0.76377462 0.25506903 0.49543509 0.84743374 0.44949106 0.65159297]\n",
      "adding solutions\n",
      "exit adding solutions\n",
      "returning from _evaluate\n"
     ]
    }
   ],
   "source": [
    "#Preparing CMAES algorithm from pymoo\n",
    "x0 = denormalize(np.random.random(2), np.array([40, 0.4]), np.array([50, 0.5]))\n",
    "\n",
    "n_simulations = 2\n",
    "\n",
    "algorithm = CMAES(x0=x0, maxfevals=n_simulations)   \n",
    "termination = get_termination(\"n_eval\", n_simulations)\n",
    "\n",
    "\n",
    "x, path, error = minimize_pymoo(swat_problem,\n",
    "    algorithm,\n",
    "    termination,\n",
    "    seed=1,\n",
    "    verbose=False,\n",
    "    callback=None,\n",
    ")\n"
   ]
  },
  {
   "cell_type": "code",
   "execution_count": 5,
   "metadata": {},
   "outputs": [
    {
     "data": {
      "text/plain": [
       "array([49.73623615,  0.46709898])"
      ]
     },
     "execution_count": 5,
     "metadata": {},
     "output_type": "execute_result"
    }
   ],
   "source": [
    "#best combination of parameters\n",
    "x"
   ]
  },
  {
   "cell_type": "code",
   "execution_count": 6,
   "metadata": {},
   "outputs": [
    {
     "data": {
      "text/plain": [
       "{'test_calibration': PosixPath('/tmp/tmpctezy5l0')}"
      ]
     },
     "execution_count": 6,
     "metadata": {},
     "output_type": "execute_result"
    }
   ],
   "source": [
    "#path of best solution\n",
    "path"
   ]
  },
  {
   "cell_type": "code",
   "execution_count": 7,
   "metadata": {},
   "outputs": [
    {
     "data": {
      "text/plain": [
       "0.13436424411240122"
      ]
     },
     "execution_count": 7,
     "metadata": {},
     "output_type": "execute_result"
    }
   ],
   "source": [
    "#error\n",
    "error"
   ]
  }
 ],
 "metadata": {
  "kernelspec": {
   "display_name": "pySWAT",
   "language": "python",
   "name": "python3"
  },
  "language_info": {
   "codemirror_mode": {
    "name": "ipython",
    "version": 3
   },
   "file_extension": ".py",
   "mimetype": "text/x-python",
   "name": "python",
   "nbconvert_exporter": "python",
   "pygments_lexer": "ipython3",
   "version": "3.12.1"
  }
 },
 "nbformat": 4,
 "nbformat_minor": 2
}
