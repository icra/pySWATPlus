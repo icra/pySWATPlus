{
 "cells": [
  {
   "cell_type": "code",
   "execution_count": 8,
   "metadata": {},
   "outputs": [],
   "source": [
    "from pySWATPlus import TxtinoutReader\n",
    "import random\n",
    "from SALib.sample import sobol as sobol_sample\n",
    "from SALib.analyze import sobol as sobol_analyze\n",
    "import numpy as np\n",
    "import random\n",
    "import concurrent.futures"
   ]
  },
  {
   "cell_type": "code",
   "execution_count": 9,
   "metadata": {},
   "outputs": [],
   "source": [
    "random.seed(42)  # Set seed for reproducibility"
   ]
  },
  {
   "cell_type": "code",
   "execution_count": 10,
   "metadata": {},
   "outputs": [],
   "source": [
    "txtinout_folder = '/mnt/c/users/joans/onedrive/Escriptori/icra/muga_windows'    #Here you have to put the path to your  txtinout folder, with the SWAT.exe \n",
    "txtinout_reader = TxtinoutReader(txtinout_folder)"
   ]
  },
  {
   "cell_type": "code",
   "execution_count": 11,
   "metadata": {},
   "outputs": [],
   "source": [
    "txtinout_reader.set_beginning_and_end_year(2010, 2012)\n",
    "txtinout_reader.set_warmup(1)\n",
    "txtinout_reader.enable_object_in_print_prt('channel_sd', True, False, False, False)"
   ]
  },
  {
   "cell_type": "code",
   "execution_count": 12,
   "metadata": {},
   "outputs": [],
   "source": [
    "#define the problem: in our case, we just want to calibrate epco and esco and evaluate the model\n",
    "\n",
    "def run_and_evaluate_swat(epco: int = 0.5, esco: int = 0.5):\n",
    "    \n",
    "    print(f'Running SWAT with epco = {epco} and esco = {esco} \\n')\n",
    "    \n",
    "    #copy swat so simulations don't interfere with each other and can run in parallel\n",
    "    tmp_path = txtinout_reader.copy_swat()\n",
    "    \n",
    "    reader = TxtinoutReader(tmp_path)\n",
    "    hydrology_hyd = reader.register_file('hydrology.hyd', has_units = False, )\n",
    "    hydrology_hyd_df = hydrology_hyd.df\n",
    "    \n",
    "    #overwrite the values of epco and esco\n",
    "    hydrology_hyd_df['epco'] = epco\n",
    "    hydrology_hyd_df['esco'] = esco\n",
    "    \n",
    "    #save the changes\n",
    "    hydrology_hyd.overwrite_file()\n",
    "    \n",
    "    #run the model\n",
    "    txt_in_out_result = reader.run_swat(show_output=False)\n",
    "    \n",
    "    #read the results\n",
    "    reader = TxtinoutReader(txt_in_out_result)    \n",
    "    channel_sdmorph = reader.register_file('channel_sdmorph_day.txt', has_units = True, )\n",
    "    \n",
    "    #here, you should read your observations and calculate the objective function\n",
    "    #for now, let's just return a mock value\n",
    "    return random.random()\n",
    "\n",
    "# Wrapper function for parallel execution\n",
    "def evaluate(params):\n",
    "    return run_and_evaluate_swat(*params)"
   ]
  },
  {
   "cell_type": "code",
   "execution_count": 13,
   "metadata": {},
   "outputs": [],
   "source": [
    "# Define the model inputs\n",
    "problem = {\n",
    "  'num_vars': 2,\n",
    "  'names': ['epco', 'esco'],\n",
    "  'bounds': [[0, 1]]*2\n",
    "}"
   ]
  },
  {
   "cell_type": "code",
   "execution_count": 18,
   "metadata": {},
   "outputs": [
    {
     "name": "stdout",
     "output_type": "stream",
     "text": [
      "Running SWAT with epco = 0.4832058800384402 and esco = 0.9244963796809316 \n",
      "Running SWAT with epco = 0.1337153371423483 and esco = 0.6604474615305662 \n",
      "Running SWAT with epco = 0.1337153371423483 and esco = 0.9244963796809316 \n",
      "Running SWAT with epco = 0.6682199016213417 and esco = 0.2060658447444439 \n",
      "Running SWAT with epco = 0.576692558825016 and esco = 0.2060658447444439 \n",
      "Running SWAT with epco = 0.4832058800384402 and esco = 0.9244963796809316 \n",
      "\n",
      "Running SWAT with epco = 0.6682199016213417 and esco = 0.0987796438857913 \n",
      "Running SWAT with epco = 0.6682199016213417 and esco = 0.0987796438857913 \n",
      "Running SWAT with epco = 0.576692558825016 and esco = 0.2060658447444439 \n",
      "Running SWAT with epco = 0.4832058800384402 and esco = 0.6604474615305662 \n",
      "Running SWAT with epco = 0.576692558825016 and esco = 0.0987796438857913 \n",
      "\n",
      "\n",
      "\n",
      "\n",
      "\n",
      "Running SWAT with epco = 0.1337153371423483 and esco = 0.6604474615305662 \n",
      "\n",
      "\n",
      "\n",
      "\n",
      "\n",
      "\n"
     ]
    }
   ],
   "source": [
    "# sample\n",
    "param_values = sobol_sample.sample(problem, 2)\n",
    "# Parallel execution\n",
    "with concurrent.futures.ProcessPoolExecutor() as executor:\n",
    "    y = np.array(list(executor.map(evaluate, param_values)))\n",
    "\n"
   ]
  },
  {
   "cell_type": "code",
   "execution_count": 19,
   "metadata": {},
   "outputs": [
    {
     "data": {
      "text/plain": [
       "{'S1': array([0.64496951, 0.81568241]),\n",
       " 'S1_conf': array([0.78872912, 1.01510526]),\n",
       " 'ST': array([2.87531541, 5.37690055]),\n",
       " 'ST_conf': array([1.86227058, 4.79791637]),\n",
       " 'S2': array([[        nan, -1.79707892],\n",
       "        [        nan,         nan]]),\n",
       " 'S2_conf': array([[       nan, 4.30014452],\n",
       "        [       nan,        nan]])}"
      ]
     },
     "execution_count": 19,
     "metadata": {},
     "output_type": "execute_result"
    }
   ],
   "source": [
    "sobol_indices = sobol_analyze.analyze(problem, y)\n",
    "sobol_indices"
   ]
  }
 ],
 "metadata": {
  "kernelspec": {
   "display_name": "pyswatplus",
   "language": "python",
   "name": "python3"
  },
  "language_info": {
   "codemirror_mode": {
    "name": "ipython",
    "version": 3
   },
   "file_extension": ".py",
   "mimetype": "text/x-python",
   "name": "python",
   "nbconvert_exporter": "python",
   "pygments_lexer": "ipython3",
   "version": "3.12.1"
  }
 },
 "nbformat": 4,
 "nbformat_minor": 2
}
